{
 "cells": [
  {
   "cell_type": "markdown",
   "id": "22619c7d-36e4-47c8-bad4-d195467a995d",
   "metadata": {},
   "source": [
    "# Hypothesis Testing (Task 3)"
   ]
  },
  {
   "cell_type": "markdown",
   "id": "57eb782d-ef35-4f49-9acd-9244f8ccf841",
   "metadata": {},
   "source": [
    "### Data Preparation"
   ]
  },
  {
   "cell_type": "code",
   "execution_count": 10,
   "id": "36c0490b-bf06-433c-a976-6b8285e39aae",
   "metadata": {},
   "outputs": [
    {
     "name": "stderr",
     "output_type": "stream",
     "text": [
      "C:\\Users\\user\\AppData\\Local\\Temp\\ipykernel_6912\\112516450.py:9: DtypeWarning: Columns (32,37) have mixed types. Specify dtype option on import or set low_memory=False.\n",
      "  df = pd.read_csv(file_path)\n"
     ]
    },
    {
     "name": "stdout",
     "output_type": "stream",
     "text": [
      "Data loaded successfully! Shape: (1000098, 52)\n"
     ]
    }
   ],
   "source": [
    "import os\n",
    "import pandas as pd\n",
    "\n",
    "# Correct path construction (use raw string or forward slashes)\n",
    "file_path = r'C:\\Users\\user\\Desktop\\insurance-risk-analytics\\notebooks\\data\\Insurance_dataset.csv'  # Add .csv\n",
    "\n",
    "# Verify file exists\n",
    "if os.path.exists(file_path):\n",
    "    df = pd.read_csv(file_path)\n",
    "    print(\"Data loaded successfully! Shape:\", df.shape)\n",
    "else:\n",
    "    print(\"File not found. Check:\")\n",
    "    print(\"- File exists at path\")\n",
    "    print(\"- Correct extension (.csv/.parquet/.xlsx)\")\n",
    "    print(\"- No typos in path\")"
   ]
  },
  {
   "cell_type": "code",
   "execution_count": 12,
   "id": "1ddbaa24-d89f-4c26-9657-fbba1168bfa8",
   "metadata": {},
   "outputs": [],
   "source": [
    "import pandas as pd\n",
    "from scipy.stats import ttest_ind, chi2_contingency, f_oneway\n",
    "from statsmodels.stats.multicomp import pairwise_tukeyhsd\n",
    "\n",
    "# Create essential binary flags\n",
    "df['HadClaim'] = (df['TotalClaims'] > 0).astype(int)  # Claim occurrence\n",
    "df['ProfitMargin'] = df['TotalPremium'] - df['TotalClaims']  # Monetary impact"
   ]
  },
  {
   "cell_type": "markdown",
   "id": "9fdd3025-fb5d-4265-9fa6-837fee3178ca",
   "metadata": {},
   "source": [
    "### Provincial Risk Differences"
   ]
  },
  {
   "cell_type": "code",
   "execution_count": 16,
   "id": "aa364c87-8784-4bfb-9b0e-03f3a7bcf13b",
   "metadata": {},
   "outputs": [
    {
     "name": "stdout",
     "output_type": "stream",
     "text": [
      "Province Claim Frequency p-value: 0.0000\n",
      "Province Claim Severity ANOVA p-value: 0.0000\n",
      "         Multiple Comparison of Means - Tukey HSD, FWER=0.05         \n",
      "=====================================================================\n",
      "    group1        group2    meandiff p-adj    lower    upper   reject\n",
      "---------------------------------------------------------------------\n",
      " Eastern Cape    Free State  -0.8905    1.0  -93.3782  91.5973  False\n",
      " Eastern Cape       Gauteng  29.9166  0.469  -14.1438   73.977  False\n",
      " Eastern Cape KwaZulu-Natal  39.5209 0.1625    -6.572  85.6137  False\n",
      " Eastern Cape       Limpopo  -3.7859    1.0  -67.0642  59.4924  False\n",
      " Eastern Cape    Mpumalanga  -5.9283    1.0  -59.2172  47.3607  False\n",
      " Eastern Cape    North West   -3.396    1.0  -50.1304  43.3384  False\n",
      " Eastern Cape Northern Cape -30.6867  0.991  -132.535  71.1616  False\n",
      " Eastern Cape  Western Cape   16.118 0.9765  -29.9541  62.1902  False\n",
      "   Free State       Gauteng   30.807 0.9662  -52.2009  113.815  False\n",
      "   Free State KwaZulu-Natal  40.4113 0.8605  -43.6931 124.5157  False\n",
      "   Free State       Limpopo  -2.8954    1.0  -97.5165  91.7256  False\n",
      "   Free State    Mpumalanga  -5.0378    1.0  -93.2915  83.2158  False\n",
      "   Free State    North West  -2.5055    1.0  -86.9632  81.9521  False\n",
      "   Free State Northern Cape -29.7962 0.9981 -153.5786  93.9861  False\n",
      "   Free State  Western Cape  17.0085 0.9995  -67.0845 101.1015  False\n",
      "      Gauteng KwaZulu-Natal   9.6043 0.9029  -11.8642  31.0727  False\n",
      "      Gauteng       Limpopo -33.7025 0.4316   -82.081  14.6761  False\n",
      "      Gauteng    Mpumalanga -35.8449 0.0325  -70.1385  -1.5512   True\n",
      "      Gauteng    North West -33.3126 0.0002  -56.1258 -10.4993   True\n",
      "      Gauteng Northern Cape -60.6033 0.5333 -153.9275  32.7209  False\n",
      "      Gauteng  Western Cape -13.7985 0.5449  -35.2223   7.6253  False\n",
      "KwaZulu-Natal       Limpopo -43.3067 0.1571  -93.5434   6.9299  False\n",
      "KwaZulu-Natal    Mpumalanga -45.4491 0.0042  -82.3176  -8.5806   True\n",
      "KwaZulu-Natal    North West -42.9169    0.0  -69.4438 -16.3899   True\n",
      "KwaZulu-Natal Northern Cape -70.2076 0.3363 -164.5084  24.0933  False\n",
      "KwaZulu-Natal  Western Cape -23.4028 0.0975  -48.7447   1.9391  False\n",
      "      Limpopo    Mpumalanga  -2.1424    1.0  -59.0535  54.7687  False\n",
      "      Limpopo    North West   0.3899    1.0   -50.436  51.2157  False\n",
      "      Limpopo Northern Cape -26.9008 0.9968 -130.6902  76.8886  False\n",
      "      Limpopo  Western Cape  19.9039 0.9502  -30.3136  70.1215  False\n",
      "   Mpumalanga    North West   2.5323    1.0  -35.1352  40.1997  False\n",
      "   Mpumalanga Northern Cape -24.7584 0.9973 -122.7778   73.261  False\n",
      "   Mpumalanga  Western Cape  22.0463 0.6443  -14.7962  58.8889  False\n",
      "   North West Northern Cape -27.2907 0.9933 -121.9067  67.3253  False\n",
      "   North West  Western Cape  19.5141 0.3512   -6.9768  46.0049  False\n",
      "Northern Cape  Western Cape  46.8048 0.8369  -47.4859 141.0954  False\n",
      "---------------------------------------------------------------------\n"
     ]
    }
   ],
   "source": [
    "# Frequency test (Chi-square)\n",
    "province_freq = pd.crosstab(df['Province'], df['HadClaim'])\n",
    "chi2, pval, _, _ = chi2_contingency(province_freq)\n",
    "print(f\"Province Claim Frequency p-value: {pval:.4f}\")\n",
    "\n",
    "# Severity test (ANOVA + Tukey HSD)\n",
    "province_groups = df.groupby('Province')['TotalClaims'].apply(list)\n",
    "f_stat, pval = f_oneway(*province_groups)\n",
    "print(f\"Province Claim Severity ANOVA p-value: {pval:.4f}\")\n",
    "\n",
    "# Post-hoc analysis (if p < 0.05)\n",
    "if pval < 0.05:\n",
    "    tukey = pairwise_tukeyhsd(df['TotalClaims'], df['Province'])\n",
    "    print(tukey.summary())"
   ]
  },
  {
   "cell_type": "markdown",
   "id": "b4a4e175-98a2-4262-91e9-6f0cf10726cb",
   "metadata": {},
   "source": [
    "### Zip Code Analysis"
   ]
  },
  {
   "cell_type": "code",
   "execution_count": 14,
   "id": "ec39bed8-158d-4648-b5a7-1b48eab56dc1",
   "metadata": {},
   "outputs": [
    {
     "name": "stdout",
     "output_type": "stream",
     "text": [
      "\n",
      "Zip Code Margin p-value: 0.0000\n"
     ]
    }
   ],
   "source": [
    "# Top/Bottom 20% zip codes by loss ratio\n",
    "zip_stats = df.groupby('PostalCode').agg(\n",
    "    Claims=('TotalClaims', 'sum'),\n",
    "    Premium=('TotalPremium', 'sum')\n",
    ").assign(LossRatio=lambda x: x['Claims']/x['Premium'])\n",
    "\n",
    "high_risk = df[df['PostalCode'].isin(zip_stats.nlargest(20, 'LossRatio').index)]\n",
    "low_risk = df[df['PostalCode'].isin(zip_stats.nsmallest(20, 'LossRatio').index)]\n",
    "\n",
    "# Margin comparison\n",
    "t_stat, pval = ttest_ind(high_risk['ProfitMargin'], low_risk['ProfitMargin'])\n",
    "print(f\"\\nZip Code Margin p-value: {pval:.4f}\")"
   ]
  },
  {
   "cell_type": "markdown",
   "id": "4eec5e56-0b35-49ad-af77-debe13cd10c9",
   "metadata": {},
   "source": [
    "###  Gender Test"
   ]
  },
  {
   "cell_type": "code",
   "execution_count": 15,
   "id": "c97797e7-c886-41bc-85da-d6d41479a08f",
   "metadata": {},
   "outputs": [
    {
     "name": "stdout",
     "output_type": "stream",
     "text": [
      "Unique genders: ['Not specified' 'Male' 'Female']\n",
      "\n",
      "Gender Claim Frequency p-value: 0.0266\n",
      "Gender Claim Severity p-value: 0.8041\n"
     ]
    }
   ],
   "source": [
    "# Clean gender data\n",
    "valid_genders = df['Gender'].dropna().unique()\n",
    "print(f\"Unique genders: {valid_genders}\")  # Check for unexpected values\n",
    "\n",
    "# Frequency test\n",
    "gender_freq = pd.crosstab(df['Gender'], df['HadClaim'])\n",
    "chi2, pval, _, _ = chi2_contingency(gender_freq)\n",
    "print(f\"\\nGender Claim Frequency p-value: {pval:.4f}\")\n",
    "\n",
    "# Severity test\n",
    "male_claims = df[df['Gender'] == 'Male']['TotalClaims']\n",
    "female_claims = df[df['Gender'] == 'Female']['TotalClaims']\n",
    "t_stat, pval = ttest_ind(male_claims, female_claims)\n",
    "print(f\"Gender Claim Severity p-value: {pval:.4f}\")"
   ]
  }
 ],
 "metadata": {
  "kernelspec": {
   "display_name": "Python 3 (ipykernel)",
   "language": "python",
   "name": "python3"
  },
  "language_info": {
   "codemirror_mode": {
    "name": "ipython",
    "version": 3
   },
   "file_extension": ".py",
   "mimetype": "text/x-python",
   "name": "python",
   "nbconvert_exporter": "python",
   "pygments_lexer": "ipython3",
   "version": "3.12.4"
  }
 },
 "nbformat": 4,
 "nbformat_minor": 5
}
